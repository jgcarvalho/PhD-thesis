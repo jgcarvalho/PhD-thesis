{
 "cells": [
  {
   "cell_type": "markdown",
   "metadata": {},
   "source": [
    "# Estatística de aminoácidos por estrutura secundária"
   ]
  },
  {
   "cell_type": "code",
   "execution_count": null,
   "metadata": {
    "collapsed": true
   },
   "outputs": [],
   "source": [
    "from glob import glob\n",
    "from os.path import basename\n",
    "import pandas as pd\n",
    "from sklearn.cluster import KMeans"
   ]
  },
  {
   "cell_type": "code",
   "execution_count": null,
   "metadata": {
    "collapsed": true
   },
   "outputs": [],
   "source": [
    "%matplotlib inline"
   ]
  },
  {
   "cell_type": "code",
   "execution_count": null,
   "metadata": {
    "collapsed": true
   },
   "outputs": [],
   "source": [
    "def init_dict():\n",
    "    aa = ['A','C','D','E','F','G','I','H','K','L','M','N','P','Q','R','S','T','V','Y','W']\n",
    "    d = {}\n",
    "    for i in aa:\n",
    "        d[i] = {'H':0,'E':0,'C':0,'?':0}\n",
    "    return d"
   ]
  },
  {
   "cell_type": "code",
   "execution_count": null,
   "metadata": {
    "collapsed": true
   },
   "outputs": [],
   "source": [
    "def add_counts(dic, seq, ss):\n",
    "    for i in range(len(seq)):\n",
    "        dic[seq[i]][ss[i]] += 1"
   ]
  },
  {
   "cell_type": "code",
   "execution_count": null,
   "metadata": {
    "collapsed": true
   },
   "outputs": [],
   "source": [
    "def get_seq(fn):\n",
    "    f = open(DATA_PATH+\"/seq/\"+fn)\n",
    "    _ = f.readline()\n",
    "    seq = f.readline()\n",
    "    f.close()\n",
    "    return seq\n",
    "    "
   ]
  },
  {
   "cell_type": "code",
   "execution_count": null,
   "metadata": {
    "collapsed": true
   },
   "outputs": [],
   "source": [
    "def get_dssp(fn):\n",
    "    f = open(DATA_PATH+\"/dssp/\"+fn)\n",
    "    _ = f.readline()\n",
    "    dssp = f.readline()\n",
    "    f.close()\n",
    "    return dssp\n",
    "    "
   ]
  },
  {
   "cell_type": "code",
   "execution_count": null,
   "metadata": {
    "collapsed": true
   },
   "outputs": [],
   "source": [
    "def get_stride(fn):\n",
    "    f = open(DATA_PATH+\"/stride/\"+fn)\n",
    "    _ = f.readline()\n",
    "    stride = f.readline()\n",
    "    f.close()\n",
    "    return stride\n",
    "    "
   ]
  },
  {
   "cell_type": "code",
   "execution_count": null,
   "metadata": {},
   "outputs": [],
   "source": [
    "def get_kaksi(fn):\n",
    "    f = open(DATA_PATH+\"/kaksi/\"+fn)\n",
    "    _ = f.readline()\n",
    "    kaksi = f.readline()\n",
    "    f.close()\n",
    "    return kaksi\n",
    "    "
   ]
  },
  {
   "cell_type": "code",
   "execution_count": null,
   "metadata": {
    "collapsed": true
   },
   "outputs": [],
   "source": [
    "def get_pross(fn):\n",
    "    f = open(DATA_PATH+\"/pross/\"+fn)\n",
    "    _ = f.readline()\n",
    "    pross = f.readline()\n",
    "    f.close()\n",
    "    return pross\n",
    "    "
   ]
  },
  {
   "cell_type": "code",
   "execution_count": null,
   "metadata": {},
   "outputs": [],
   "source": [
    "DATA_PATH=\"/home/jgcarvalho/zeca-analyse-pos_quali/Top8000-best_hom50_pdb_chain/cba_times_mcc/rose_special_charged/run_10000\"\n",
    "dssp_dict = init_dict()\n",
    "stride_dict = init_dict()\n",
    "kaksi_dict = init_dict()\n",
    "pross_dict = init_dict()\n",
    "all_dict = init_dict()\n",
    "\n",
    "for fn in glob(DATA_PATH+\"/seq/*\"):\n",
    "    f = basename(fn)\n",
    "    #dssp\n",
    "    add_counts(dssp_dict, get_seq(f), get_dssp(f))\n",
    "    add_counts(all_dict, get_seq(f), get_dssp(f))\n",
    "    #stride\n",
    "    add_counts(stride_dict, get_seq(f), get_stride(f))\n",
    "    add_counts(all_dict, get_seq(f), get_stride(f))\n",
    "    #kaksi\n",
    "    add_counts(kaksi_dict, get_seq(f), get_kaksi(f))\n",
    "    add_counts(all_dict, get_seq(f), get_kaksi(f))\n",
    "    #pross\n",
    "    add_counts(pross_dict, get_seq(f), get_pross(f))\n",
    "    add_counts(all_dict, get_seq(f), get_pross(f))\n",
    "    \n",
    "    \n",
    "    \n"
   ]
  },
  {
   "cell_type": "code",
   "execution_count": null,
   "metadata": {
    "collapsed": true
   },
   "outputs": [],
   "source": [
    "dt_dssp = pd.DataFrame.from_dict(dssp_dict, orient='index')\n",
    "dt_dssp_norm = dt_dssp.div(dt_dssp.sum(axis=1), axis=0)\n",
    "\n",
    "dt_stride = pd.DataFrame.from_dict(stride_dict, orient='index')\n",
    "dt_stride_norm = dt_stride.div(dt_stride.sum(axis=1), axis=0)\n",
    "\n",
    "dt_kaksi = pd.DataFrame.from_dict(kaksi_dict, orient='index')\n",
    "dt_kaksi_norm = dt_kaksi.div(dt_kaksi.sum(axis=1), axis=0)\n",
    "\n",
    "dt_pross = pd.DataFrame.from_dict(pross_dict, orient='index')\n",
    "dt_pross_norm = dt_pross.div(dt_pross.sum(axis=1), axis=0)\n",
    "\n",
    "dt_all = pd.DataFrame.from_dict(all_dict, orient='index')\n",
    "dt_all_norm = dt_all.div(dt_all.sum(axis=1), axis=0)"
   ]
  },
  {
   "cell_type": "markdown",
   "metadata": {},
   "source": [
    "Gráfico das distribuições das estruturas secundárias por aminoácidos. **Atenção: KAKSI não atribui o estado '?' à aminoácidos não visualizados.**"
   ]
  },
  {
   "cell_type": "code",
   "execution_count": null,
   "metadata": {},
   "outputs": [],
   "source": [
    "dt_dssp_norm.plot.bar()\n",
    "dt_stride_norm.plot.bar()\n",
    "dt_kaksi_norm.plot.bar()\n",
    "dt_pross_norm.plot.bar()\n",
    "dt_all_norm.plot.bar()"
   ]
  },
  {
   "cell_type": "markdown",
   "metadata": {},
   "source": [
    "Gráfico das distribuições das estruturas secundárias por aminoácidos ordenados pela diferença p(H)-p(E)"
   ]
  },
  {
   "cell_type": "code",
   "execution_count": null,
   "metadata": {},
   "outputs": [],
   "source": [
    "dt_dssp_norm['H-E'] = dt_dssp_norm['H'] - dt_dssp_norm['E']\n",
    "dt_dssp_norm.sort_values('H-E', ascending=False).drop('H-E', axis=1).plot.bar()\n",
    "\n",
    "\n",
    "dt_stride_norm['H-E'] = dt_stride_norm['H'] - dt_stride_norm['E']\n",
    "dt_stride_norm.sort_values('H-E', ascending=False).drop('H-E', axis=1).plot.bar()\n",
    "\n",
    "dt_kaksi_norm['H-E'] = dt_kaksi_norm['H'] - dt_kaksi_norm['E']\n",
    "dt_kaksi_norm.sort_values('H-E', ascending=False).drop('H-E', axis=1).plot.bar()\n",
    "\n",
    "dt_pross_norm['H-E'] = dt_pross_norm['H'] - dt_pross_norm['E']\n",
    "dt_pross_norm.sort_values('H-E', ascending=False).drop('H-E', axis=1).plot.bar()\n",
    "\n",
    "dt_all_norm['H-E'] = dt_all_norm['H'] - dt_all_norm['E']\n",
    "dt_all_norm.sort_values('H-E', ascending=False).drop('H-E', axis=1).plot.bar()\n"
   ]
  },
  {
   "cell_type": "code",
   "execution_count": null,
   "metadata": {
    "collapsed": true
   },
   "outputs": [],
   "source": []
  }
 ],
 "metadata": {
  "kernelspec": {
   "display_name": "Python 3",
   "language": "python",
   "name": "python3"
  },
  "language_info": {
   "codemirror_mode": {
    "name": "ipython",
    "version": 3
   },
   "file_extension": ".py",
   "mimetype": "text/x-python",
   "name": "python",
   "nbconvert_exporter": "python",
   "pygments_lexer": "ipython3",
   "version": "3.6.1"
  }
 },
 "nbformat": 4,
 "nbformat_minor": 2
}
