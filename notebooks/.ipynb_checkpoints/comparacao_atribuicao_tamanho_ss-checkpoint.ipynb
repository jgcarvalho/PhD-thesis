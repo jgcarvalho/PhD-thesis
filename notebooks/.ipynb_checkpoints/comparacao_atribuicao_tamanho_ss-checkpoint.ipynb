{
 "cells": [
  {
   "cell_type": "code",
   "execution_count": 2,
   "metadata": {
    "collapsed": true
   },
   "outputs": [],
   "source": [
    "from glob import glob\n",
    "from os.path import basename\n",
    "import pandas as pd\n",
    "import seaborn as sns; sns.set()\n",
    "import numpy as np\n",
    "import re"
   ]
  },
  {
   "cell_type": "code",
   "execution_count": 3,
   "metadata": {
    "collapsed": true
   },
   "outputs": [],
   "source": [
    "%matplotlib inline"
   ]
  },
  {
   "cell_type": "code",
   "execution_count": 4,
   "metadata": {
    "collapsed": true
   },
   "outputs": [],
   "source": [
    "def get_dssp(fn):\n",
    "    f = open(DATA_PATH+\"/dssp/\"+fn)\n",
    "    _ = f.readline()\n",
    "    dssp = f.readline()\n",
    "    f.close()\n",
    "    return [m.group(0) for m in re.finditer(r\"(.)\\1*\", dssp)]\n",
    "    "
   ]
  },
  {
   "cell_type": "code",
   "execution_count": 5,
   "metadata": {
    "collapsed": true
   },
   "outputs": [],
   "source": [
    "def get_stride(fn):\n",
    "    f = open(DATA_PATH+\"/stride/\"+fn)\n",
    "    _ = f.readline()\n",
    "    stride = f.readline()\n",
    "    f.close()\n",
    "    return [m.group(0) for m in re.finditer(r\"(.)\\1*\", stride)]"
   ]
  },
  {
   "cell_type": "code",
   "execution_count": 6,
   "metadata": {
    "collapsed": true
   },
   "outputs": [],
   "source": [
    "def get_kaksi(fn):\n",
    "    f = open(DATA_PATH+\"/kaksi/\"+fn)\n",
    "    _ = f.readline()\n",
    "    kaksi = f.readline()\n",
    "    f.close()\n",
    "    return [m.group(0) for m in re.finditer(r\"(.)\\1*\", kaksi)]\n",
    "    "
   ]
  },
  {
   "cell_type": "code",
   "execution_count": 7,
   "metadata": {
    "collapsed": true
   },
   "outputs": [],
   "source": [
    "def get_pross(fn):\n",
    "    f = open(DATA_PATH+\"/pross/\"+fn)\n",
    "    _ = f.readline()\n",
    "    pross = f.readline()\n",
    "    f.close()\n",
    "    return [m.group(0) for m in re.finditer(r\"(.)\\1*\", pross)]\n",
    "    "
   ]
  },
  {
   "cell_type": "code",
   "execution_count": 19,
   "metadata": {},
   "outputs": [],
   "source": [
    "DATA_PATH=\"/home/jgcarvalho/zeca-analyse-pos_quali/Top8000-best_hom50_pdb_chain/cba_times_mcc/rose_special_charged/run_10000\"\n",
    "segs_dssp = []\n",
    "segs_stride = []\n",
    "segs_kaksi = []\n",
    "segs_pross = []\n",
    "for fn in glob(DATA_PATH+\"/seq/*\"):\n",
    "    f = basename(fn)\n",
    "    dssp = get_dssp(f)\n",
    "    stride = get_stride(f)\n",
    "    kaksi = get_kaksi(f)\n",
    "    pross = get_pross(f)\n",
    "    segs_dssp += [{\"Method\":\"DSSP\",\"File\":f,\"Segment\":x} for x in dssp]\n",
    "    segs_stride += [{\"Method\":\"DSSP\",\"File\":f,\"Segment\":x} for x in stride]\n",
    "    segs_kaksi += [{\"Method\":\"DSSP\",\"File\":f,\"Segment\":x} for x in kaksi]\n",
    "    segs_pross += [{\"Method\":\"DSSP\",\"File\":f,\"Segment\":x} for x in pross]\n",
    "#     print(segs_dssp)\n",
    "    break\n",
    "pd_dssp = pd.DataFrame(segs_dssp)\n",
    "pd_stride = pd.DataFrame(segs_stride)\n",
    "pd_kaksi = pd.DataFrame(segs_kaksi)\n",
    "pd_pross = pd.DataFrame(segs_pross)\n"
   ]
  },
  {
   "cell_type": "code",
   "execution_count": null,
   "metadata": {
    "collapsed": true
   },
   "outputs": [],
   "source": []
  }
 ],
 "metadata": {
  "kernelspec": {
   "display_name": "Python 3",
   "language": "python",
   "name": "python3"
  },
  "language_info": {
   "codemirror_mode": {
    "name": "ipython",
    "version": 3
   },
   "file_extension": ".py",
   "mimetype": "text/x-python",
   "name": "python",
   "nbconvert_exporter": "python",
   "pygments_lexer": "ipython3",
   "version": "3.6.1"
  }
 },
 "nbformat": 4,
 "nbformat_minor": 2
}
